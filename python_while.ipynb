{
  "nbformat": 4,
  "nbformat_minor": 0,
  "metadata": {
    "colab": {
      "provenance": [],
      "authorship_tag": "ABX9TyOW+RYwz+casu3uUz1NlAeP",
      "include_colab_link": true
    },
    "kernelspec": {
      "name": "python3",
      "display_name": "Python 3"
    },
    "language_info": {
      "name": "python"
    }
  },
  "cells": [
    {
      "cell_type": "markdown",
      "metadata": {
        "id": "view-in-github",
        "colab_type": "text"
      },
      "source": [
        "<a href=\"https://colab.research.google.com/github/mahshid-khojandi/python-while/blob/main/python_while.ipynb\" target=\"_parent\"><img src=\"https://colab.research.google.com/assets/colab-badge.svg\" alt=\"Open In Colab\"/></a>"
      ]
    },
    {
      "cell_type": "markdown",
      "source": [
        "Using the while loop in Python, you can do a task repeatedly."
      ],
      "metadata": {
        "id": "LVUDKI8wZA9E"
      }
    },
    {
      "cell_type": "code",
      "source": [
        "x = 0\n",
        "while x < 11:\n",
        "  print (x)\n",
        "  x = x + 1\n",
        "\n",
        "print ('Done')"
      ],
      "metadata": {
        "colab": {
          "base_uri": "https://localhost:8080/"
        },
        "id": "E6uE_Kc6X4fK",
        "outputId": "0643bdc6-52f0-431c-97b3-3aefd2f0ec44"
      },
      "execution_count": 1,
      "outputs": [
        {
          "output_type": "stream",
          "name": "stdout",
          "text": [
            "0\n",
            "1\n",
            "2\n",
            "3\n",
            "4\n",
            "5\n",
            "6\n",
            "7\n",
            "8\n",
            "9\n",
            "10\n",
            "Done\n"
          ]
        }
      ]
    },
    {
      "cell_type": "code",
      "source": [
        "x = 0\n",
        "while x < 11:\n",
        "  print (x, end = '$ ')\n",
        "  x = x + 1\n",
        "\n",
        "print ('Done')"
      ],
      "metadata": {
        "colab": {
          "base_uri": "https://localhost:8080/"
        },
        "id": "TnnW1U3BX5VS",
        "outputId": "e4015f0a-6a5d-4423-a8ac-88db06b03eb4"
      },
      "execution_count": 3,
      "outputs": [
        {
          "output_type": "stream",
          "name": "stdout",
          "text": [
            "0$ 1$ 2$ 3$ 4$ 5$ 6$ 7$ 8$ 9$ 10$ Done\n"
          ]
        }
      ]
    },
    {
      "cell_type": "markdown",
      "source": [
        "**Infinite** **loop** **with** **while** **true**\n",
        "\n",
        "An infinite loop is a loop that has no end and will run **forever**"
      ],
      "metadata": {
        "id": "WgwAz7yOZJvu"
      }
    },
    {
      "cell_type": "code",
      "source": [
        "while True:\n",
        "   print(\"hello\")\n",
        "\n",
        "# The word \"hello\" is printed indefinitely"
      ],
      "metadata": {
        "id": "IeyX6T7RZ5zy"
      },
      "execution_count": null,
      "outputs": []
    },
    {
      "cell_type": "markdown",
      "source": [
        "**A** **nested** **while** **loop**\n",
        "\n",
        "1.  You can put loops inside each other.\n",
        "2.  In nested loops, the outer loop is called outer and the inner loop is called inner\n",
        "3.  The way it works is this: for every rotation in the outer loop, the inner ring will rotate completely.\n",
        "\n",
        "\n",
        "\n",
        "\n"
      ],
      "metadata": {
        "id": "xfeQ4J-maNtW"
      }
    },
    {
      "cell_type": "code",
      "source": [
        "#statement(s)\n",
        "while condition_1:\n",
        "    #statement(s)\n",
        "    while condition_2:\n",
        "        #statement(s)"
      ],
      "metadata": {
        "id": "nAV4CAP4aDBc"
      },
      "execution_count": null,
      "outputs": []
    },
    {
      "cell_type": "code",
      "source": [
        "# While loop with else block in Python\n",
        "num = 10\n",
        "while num > 6:\n",
        "   print(num)\n",
        "   num = num-1\n",
        "else:\n",
        "   print(\"loop is finished\")"
      ],
      "metadata": {
        "colab": {
          "base_uri": "https://localhost:8080/"
        },
        "id": "w86rMNYGaij5",
        "outputId": "bb7b0ea3-b817-4b61-a3f9-d7c2ea314696"
      },
      "execution_count": 4,
      "outputs": [
        {
          "output_type": "stream",
          "name": "stdout",
          "text": [
            "10\n",
            "9\n",
            "8\n",
            "7\n",
            "loop is finished\n"
          ]
        }
      ]
    },
    {
      "cell_type": "markdown",
      "source": [
        "**The** **difference** **between** **the** **while** **loop** **and** **the** **for** **loop** **of** **Python**\n",
        "\n",
        "1. The for statement iterates through a collection or iterable object or generator function.\n",
        "\n",
        "2. The while statement simply loops until a condition is False.\n",
        "\n",
        "3. The for loop is used when we know the number of rotations of the loop, but in the while loop we do not need to know the number of rotations.\n",
        "\n"
      ],
      "metadata": {
        "id": "jS8_nyGtb5WV"
      }
    }
  ]
}